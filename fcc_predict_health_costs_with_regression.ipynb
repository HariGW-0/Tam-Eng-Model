{
  "cells": [
    {
      "cell_type": "code",
      "execution_count": null,
      "metadata": {
        "id": "1rRo8oNqZ-Rj"
      },
      "outputs": [],
      "source": [
        "# Import all required libraries\n",
        "import matplotlib.pyplot as plt\n",
        "import numpy as np\n",
        "import pandas as pd\n",
        "from sklearn.model_selection import train_test_split\n",
        "from sklearn.preprocessing import StandardScaler, OneHotEncoder\n",
        "from sklearn.compose import ColumnTransformer\n",
        "\n",
        "import tensorflow as tf\n",
        "from tensorflow import keras\n",
        "from tensorflow.keras import layers\n",
        "\n",
        "print(\"TensorFlow version:\", tf.__version__)"
      ]
    },
    {
      "cell_type": "code",
      "execution_count": null,
      "metadata": {
        "id": "CiX2FI4gZtTt"
      },
      "outputs": [],
      "source": [
        "# Download and load dataset\n",
        "!wget https://cdn.freecodecamp.org/project-data/health-costs/insurance.csv\n",
        "dataset = pd.read_csv('insurance.csv')\n",
        "\n",
        "# Split data into train and test sets\n",
        "train_df, test_df = train_test_split(dataset, test_size=0.2, random_state=42)\n",
        "\n",
        "# Separate features and labels\n",
        "train_labels = train_df.pop('expenses')\n",
        "test_labels = test_df.pop('expenses')\n",
        "\n",
        "# Define feature types\n",
        "numeric_features = ['age', 'bmi', 'children']\n",
        "categorical_features = ['sex', 'smoker', 'region']\n",
        "\n",
        "# Create preprocessing pipeline\n",
        "preprocessor = ColumnTransformer(\n",
        "    transformers=[\n",
        "        ('num', StandardScaler(), numeric_features),\n",
        "        ('cat', OneHotEncoder(), categorical_features)\n",
        "    ])\n",
        "\n",
        "# Fit and transform training data\n",
        "X_train = preprocessor.fit_transform(train_df)\n",
        "X_test = preprocessor.transform(test_df)\n",
        "\n",
        "# Convert to numpy arrays\n",
        "y_train = train_labels.values\n",
        "y_test = test_labels.values"
      ]
    },
    {
      "cell_type": "code",
      "execution_count": null,
      "metadata": {
        "id": "LcopvQh3X-kX"
      },
      "outputs": [],
      "source": [
        "# Build model\n",
        "model = keras.Sequential([\n",
        "    layers.Dense(128, activation='relu', input_shape=[X_train.shape[1]]),\n",
        "    layers.Dense(64, activation='relu'),\n",
        "    layers.Dense(1)\n",
        "])\n",
        "\n",
        "# Compile model\n",
        "model.compile(optimizer='adam', loss='mae', metrics=['mae'])\n",
        "\n",
        "# Train model\n",
        "history = model.fit(\n",
        "    X_train, y_train,\n",
        "    epochs=100,\n",
        "    batch_size=32,\n",
        "    validation_split=0.2,\n",
        "    verbose=0\n",
        ")"
      ]
    },
    {
      "cell_type": "code",
      "execution_count": null,
      "metadata": {
        "id": "Xe7RXH3N3CWU"
      },
      "outputs": [],
      "source": [
        "# Evaluate model\n",
        "loss, mae = model.evaluate(X_test, y_test, verbose=2)\n",
        "print(f\"Test MAE: ${mae:.2f}\")\n",
        "\n",
        "if mae < 3500:\n",
        "    print(\"You passed the challenge! Great job!\")\n",
        "else:\n",
        "    print(\"Keep trying to get MAE under $3500\")\n",
        "\n",
        "# Make predictions\n",
        "predictions = model.predict(X_test).flatten()\n",
        "\n",
        "# Plot results\n",
        "plt.figure(figsize=(10, 6))\n",
        "plt.scatter(y_test, predictions)\n",
        "plt.plot([0, 50000], [0, 50000], '--k')\n",
        "plt.xlabel('True Values')\n",
        "plt.ylabel('Predictions')\n",
        "plt.title('Healthcare Cost Predictions')\n",
        "plt.show()"
      ]
    },
    {
      "cell_type": "markdown",
      "source": [
        "# Evaluate model\n",
        "loss, mae = model.evaluate(X_test, y_test, verbose=2)\n",
        "print(f\"Test MAE: ${mae:.2f}\")\n",
        "\n",
        "if mae < 3500:\n",
        "    print(\"You passed the challenge! Great job!\")\n",
        "else:\n",
        "    print(\"Keep trying to get MAE under $3500\")\n",
        "\n",
        "# Make predictions\n",
        "predictions = model.predict(X_test).flatten()\n",
        "\n",
        "# Plot results\n",
        "plt.figure(figsize=(10, 6))\n",
        "plt.scatter(y_test, predictions)\n",
        "plt.plot([0, 50000], [0, 50000], '--k')\n",
        "plt.xlabel('True Values')\n",
        "plt.ylabel('Predictions')\n",
        "plt.title('Healthcare Cost Predictions')\n",
        "plt.show()"
      ],
      "metadata": {
        "id": "axd9Jkn8HFAK"
      }
    },
    {
      "cell_type": "code",
      "source": [],
      "metadata": {
        "id": "zacaic8XGl81"
      },
      "execution_count": null,
      "outputs": []
    }
  ],
  "metadata": {
    "colab": {
      "name": "fcc_predict_health_costs_with_regression.ipynb",
      "private_outputs": true,
      "provenance": []
    },
    "kernelspec": {
      "display_name": "Python 3",
      "name": "python3"
    }
  },
  "nbformat": 4,
  "nbformat_minor": 0
}